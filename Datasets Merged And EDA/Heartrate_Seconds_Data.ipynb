{
 "cells": [
  {
   "cell_type": "code",
   "execution_count": 2,
   "id": "ba0d5e42",
   "metadata": {},
   "outputs": [],
   "source": [
    "import pandas as pd\n",
    "import numpy as np"
   ]
  },
  {
   "cell_type": "code",
   "execution_count": 3,
   "id": "092a3932",
   "metadata": {},
   "outputs": [],
   "source": [
    "# Load # dataset\n",
    "heartrate_seconds = pd.read_csv('heartrate_seconds_merged.csv')"
   ]
  },
  {
   "cell_type": "code",
   "execution_count": 4,
   "id": "e1c63f22",
   "metadata": {},
   "outputs": [
    {
     "name": "stdout",
     "output_type": "stream",
     "text": [
      "           Id                  Time  Value\n",
      "0  2022484408  4/12/2016 7:21:00 AM     97\n",
      "1  2022484408  4/12/2016 7:21:05 AM    102\n",
      "2  2022484408  4/12/2016 7:21:10 AM    105\n",
      "3  2022484408  4/12/2016 7:21:20 AM    103\n",
      "4  2022484408  4/12/2016 7:21:25 AM    101\n"
     ]
    }
   ],
   "source": [
    "print(heartrate_seconds.head())"
   ]
  },
  {
   "cell_type": "code",
   "execution_count": 5,
   "id": "e6435b66",
   "metadata": {},
   "outputs": [
    {
     "name": "stdout",
     "output_type": "stream",
     "text": [
      "(2483658, 3)\n"
     ]
    }
   ],
   "source": [
    "print(heartrate_seconds.shape)"
   ]
  },
  {
   "cell_type": "code",
   "execution_count": 6,
   "id": "63a62d7d",
   "metadata": {},
   "outputs": [
    {
     "data": {
      "text/plain": [
       "Id       0\n",
       "Time     0\n",
       "Value    0\n",
       "dtype: int64"
      ]
     },
     "execution_count": 6,
     "metadata": {},
     "output_type": "execute_result"
    }
   ],
   "source": [
    "heartrate_seconds.isnull().sum()"
   ]
  },
  {
   "cell_type": "code",
   "execution_count": 7,
   "id": "b1945a41",
   "metadata": {},
   "outputs": [
    {
     "name": "stdout",
     "output_type": "stream",
     "text": [
      "<class 'pandas.core.frame.DataFrame'>\n",
      "RangeIndex: 2483658 entries, 0 to 2483657\n",
      "Data columns (total 3 columns):\n",
      " #   Column  Dtype \n",
      "---  ------  ----- \n",
      " 0   Id      int64 \n",
      " 1   Time    object\n",
      " 2   Value   int64 \n",
      "dtypes: int64(2), object(1)\n",
      "memory usage: 56.8+ MB\n"
     ]
    }
   ],
   "source": [
    "heartrate_seconds.info()"
   ]
  },
  {
   "cell_type": "code",
   "execution_count": 8,
   "id": "36fcc60b",
   "metadata": {},
   "outputs": [],
   "source": [
    "df = pd.read_csv(\"heartrate_seconds_merged.csv\",index_col=0)"
   ]
  },
  {
   "cell_type": "code",
   "execution_count": 9,
   "id": "25ed74e5",
   "metadata": {},
   "outputs": [
    {
     "data": {
      "text/plain": [
       "(2483658, 2)"
      ]
     },
     "execution_count": 9,
     "metadata": {},
     "output_type": "execute_result"
    }
   ],
   "source": [
    "df.shape"
   ]
  },
  {
   "cell_type": "code",
   "execution_count": 10,
   "id": "01ade528",
   "metadata": {},
   "outputs": [
    {
     "data": {
      "text/plain": [
       "Time     0\n",
       "Value    0\n",
       "dtype: int64"
      ]
     },
     "execution_count": 10,
     "metadata": {},
     "output_type": "execute_result"
    }
   ],
   "source": [
    "df.isnull().sum()"
   ]
  },
  {
   "cell_type": "code",
   "execution_count": 11,
   "id": "1c4883fc",
   "metadata": {},
   "outputs": [
    {
     "data": {
      "text/plain": [
       "<bound method DataFrame.info of                             Time  Value\n",
       "Id                                     \n",
       "2022484408  4/12/2016 7:21:00 AM     97\n",
       "2022484408  4/12/2016 7:21:05 AM    102\n",
       "2022484408  4/12/2016 7:21:10 AM    105\n",
       "2022484408  4/12/2016 7:21:20 AM    103\n",
       "2022484408  4/12/2016 7:21:25 AM    101\n",
       "...                          ...    ...\n",
       "8877689391  5/12/2016 2:43:53 PM     57\n",
       "8877689391  5/12/2016 2:43:58 PM     56\n",
       "8877689391  5/12/2016 2:44:03 PM     55\n",
       "8877689391  5/12/2016 2:44:18 PM     55\n",
       "8877689391  5/12/2016 2:44:28 PM     56\n",
       "\n",
       "[2483658 rows x 2 columns]>"
      ]
     },
     "execution_count": 11,
     "metadata": {},
     "output_type": "execute_result"
    }
   ],
   "source": [
    "df.info"
   ]
  },
  {
   "cell_type": "code",
   "execution_count": 12,
   "id": "09131196",
   "metadata": {},
   "outputs": [],
   "source": [
    "# Define a function to split the ActivityHour column into ActivityDay and ActivityTime\n",
    "def split_activity_hour(df, column_name='Time'):\n",
    "    # Split the column into two parts: Date and Time\n",
    "    split_columns = df[column_name].str.split(' ', expand=True)\n",
    "    # Assign the split columns to the dataframe\n",
    "    df['ActivityDay'] = pd.to_datetime(split_columns[0])  # Convert to datetime format\n",
    "    df['ActivityTime'] = split_columns[1]\n",
    "    # Drop the original ActivityHour column\n",
    "    df.drop(column_name, axis=1, inplace=True)\n",
    "    return df"
   ]
  },
  {
   "cell_type": "code",
   "execution_count": 13,
   "id": "9e164bc1",
   "metadata": {},
   "outputs": [
    {
     "data": {
      "text/html": [
       "<div>\n",
       "<style scoped>\n",
       "    .dataframe tbody tr th:only-of-type {\n",
       "        vertical-align: middle;\n",
       "    }\n",
       "\n",
       "    .dataframe tbody tr th {\n",
       "        vertical-align: top;\n",
       "    }\n",
       "\n",
       "    .dataframe thead th {\n",
       "        text-align: right;\n",
       "    }\n",
       "</style>\n",
       "<table border=\"1\" class=\"dataframe\">\n",
       "  <thead>\n",
       "    <tr style=\"text-align: right;\">\n",
       "      <th></th>\n",
       "      <th>Value</th>\n",
       "      <th>ActivityDay</th>\n",
       "      <th>ActivityTime</th>\n",
       "    </tr>\n",
       "    <tr>\n",
       "      <th>Id</th>\n",
       "      <th></th>\n",
       "      <th></th>\n",
       "      <th></th>\n",
       "    </tr>\n",
       "  </thead>\n",
       "  <tbody>\n",
       "    <tr>\n",
       "      <th>2022484408</th>\n",
       "      <td>97</td>\n",
       "      <td>2016-04-12</td>\n",
       "      <td>7:21:00</td>\n",
       "    </tr>\n",
       "    <tr>\n",
       "      <th>2022484408</th>\n",
       "      <td>102</td>\n",
       "      <td>2016-04-12</td>\n",
       "      <td>7:21:05</td>\n",
       "    </tr>\n",
       "    <tr>\n",
       "      <th>2022484408</th>\n",
       "      <td>105</td>\n",
       "      <td>2016-04-12</td>\n",
       "      <td>7:21:10</td>\n",
       "    </tr>\n",
       "    <tr>\n",
       "      <th>2022484408</th>\n",
       "      <td>103</td>\n",
       "      <td>2016-04-12</td>\n",
       "      <td>7:21:20</td>\n",
       "    </tr>\n",
       "    <tr>\n",
       "      <th>2022484408</th>\n",
       "      <td>101</td>\n",
       "      <td>2016-04-12</td>\n",
       "      <td>7:21:25</td>\n",
       "    </tr>\n",
       "  </tbody>\n",
       "</table>\n",
       "</div>"
      ],
      "text/plain": [
       "            Value ActivityDay ActivityTime\n",
       "Id                                        \n",
       "2022484408     97  2016-04-12      7:21:00\n",
       "2022484408    102  2016-04-12      7:21:05\n",
       "2022484408    105  2016-04-12      7:21:10\n",
       "2022484408    103  2016-04-12      7:21:20\n",
       "2022484408    101  2016-04-12      7:21:25"
      ]
     },
     "execution_count": 13,
     "metadata": {},
     "output_type": "execute_result"
    }
   ],
   "source": [
    "# Apply the function to each dataset\n",
    "df = split_activity_hour(df)\n",
    "df.head()"
   ]
  },
  {
   "cell_type": "code",
   "execution_count": 14,
   "id": "b185a770",
   "metadata": {},
   "outputs": [
    {
     "name": "stderr",
     "output_type": "stream",
     "text": [
      "C:\\Users\\nishant32\\AppData\\Local\\Temp\\ipykernel_15012\\3852263842.py:2: FutureWarning: The default value of regex will change from True to False in a future version.\n",
      "  df.columns = df.columns.str.lower().str.replace(r'([a-z])([A-Z])', r'\\1_\\2').str.replace(r'[^a-z0-9_]', '', regex=True)\n"
     ]
    },
    {
     "data": {
      "text/html": [
       "<div>\n",
       "<style scoped>\n",
       "    .dataframe tbody tr th:only-of-type {\n",
       "        vertical-align: middle;\n",
       "    }\n",
       "\n",
       "    .dataframe tbody tr th {\n",
       "        vertical-align: top;\n",
       "    }\n",
       "\n",
       "    .dataframe thead th {\n",
       "        text-align: right;\n",
       "    }\n",
       "</style>\n",
       "<table border=\"1\" class=\"dataframe\">\n",
       "  <thead>\n",
       "    <tr style=\"text-align: right;\">\n",
       "      <th></th>\n",
       "      <th>value</th>\n",
       "      <th>activityday</th>\n",
       "      <th>activitytime</th>\n",
       "    </tr>\n",
       "    <tr>\n",
       "      <th>Id</th>\n",
       "      <th></th>\n",
       "      <th></th>\n",
       "      <th></th>\n",
       "    </tr>\n",
       "  </thead>\n",
       "  <tbody>\n",
       "    <tr>\n",
       "      <th>2022484408</th>\n",
       "      <td>97</td>\n",
       "      <td>2016-04-12</td>\n",
       "      <td>7:21:00</td>\n",
       "    </tr>\n",
       "    <tr>\n",
       "      <th>2022484408</th>\n",
       "      <td>102</td>\n",
       "      <td>2016-04-12</td>\n",
       "      <td>7:21:05</td>\n",
       "    </tr>\n",
       "    <tr>\n",
       "      <th>2022484408</th>\n",
       "      <td>105</td>\n",
       "      <td>2016-04-12</td>\n",
       "      <td>7:21:10</td>\n",
       "    </tr>\n",
       "    <tr>\n",
       "      <th>2022484408</th>\n",
       "      <td>103</td>\n",
       "      <td>2016-04-12</td>\n",
       "      <td>7:21:20</td>\n",
       "    </tr>\n",
       "    <tr>\n",
       "      <th>2022484408</th>\n",
       "      <td>101</td>\n",
       "      <td>2016-04-12</td>\n",
       "      <td>7:21:25</td>\n",
       "    </tr>\n",
       "  </tbody>\n",
       "</table>\n",
       "</div>"
      ],
      "text/plain": [
       "            value activityday activitytime\n",
       "Id                                        \n",
       "2022484408     97  2016-04-12      7:21:00\n",
       "2022484408    102  2016-04-12      7:21:05\n",
       "2022484408    105  2016-04-12      7:21:10\n",
       "2022484408    103  2016-04-12      7:21:20\n",
       "2022484408    101  2016-04-12      7:21:25"
      ]
     },
     "execution_count": 14,
     "metadata": {},
     "output_type": "execute_result"
    }
   ],
   "source": [
    "# Standardize column names\n",
    "df.columns = df.columns.str.lower().str.replace(r'([a-z])([A-Z])', r'\\1_\\2').str.replace(r'[^a-z0-9_]', '', regex=True)\n",
    "\n",
    "# Display the first few rows of the dataframe to verify the new column names\n",
    "df.head()"
   ]
  },
  {
   "cell_type": "code",
   "execution_count": 15,
   "id": "2ed0b846",
   "metadata": {},
   "outputs": [
    {
     "data": {
      "text/html": [
       "<div>\n",
       "<style scoped>\n",
       "    .dataframe tbody tr th:only-of-type {\n",
       "        vertical-align: middle;\n",
       "    }\n",
       "\n",
       "    .dataframe tbody tr th {\n",
       "        vertical-align: top;\n",
       "    }\n",
       "\n",
       "    .dataframe thead th {\n",
       "        text-align: right;\n",
       "    }\n",
       "</style>\n",
       "<table border=\"1\" class=\"dataframe\">\n",
       "  <thead>\n",
       "    <tr style=\"text-align: right;\">\n",
       "      <th></th>\n",
       "      <th>activityday</th>\n",
       "      <th>activitytime</th>\n",
       "      <th>value</th>\n",
       "    </tr>\n",
       "    <tr>\n",
       "      <th>Id</th>\n",
       "      <th></th>\n",
       "      <th></th>\n",
       "      <th></th>\n",
       "    </tr>\n",
       "  </thead>\n",
       "  <tbody>\n",
       "    <tr>\n",
       "      <th>2022484408</th>\n",
       "      <td>2016-04-12</td>\n",
       "      <td>7:21:00</td>\n",
       "      <td>97</td>\n",
       "    </tr>\n",
       "    <tr>\n",
       "      <th>2022484408</th>\n",
       "      <td>2016-04-12</td>\n",
       "      <td>7:21:05</td>\n",
       "      <td>102</td>\n",
       "    </tr>\n",
       "    <tr>\n",
       "      <th>2022484408</th>\n",
       "      <td>2016-04-12</td>\n",
       "      <td>7:21:10</td>\n",
       "      <td>105</td>\n",
       "    </tr>\n",
       "    <tr>\n",
       "      <th>2022484408</th>\n",
       "      <td>2016-04-12</td>\n",
       "      <td>7:21:20</td>\n",
       "      <td>103</td>\n",
       "    </tr>\n",
       "    <tr>\n",
       "      <th>2022484408</th>\n",
       "      <td>2016-04-12</td>\n",
       "      <td>7:21:25</td>\n",
       "      <td>101</td>\n",
       "    </tr>\n",
       "  </tbody>\n",
       "</table>\n",
       "</div>"
      ],
      "text/plain": [
       "           activityday activitytime  value\n",
       "Id                                        \n",
       "2022484408  2016-04-12      7:21:00     97\n",
       "2022484408  2016-04-12      7:21:05    102\n",
       "2022484408  2016-04-12      7:21:10    105\n",
       "2022484408  2016-04-12      7:21:20    103\n",
       "2022484408  2016-04-12      7:21:25    101"
      ]
     },
     "execution_count": 15,
     "metadata": {},
     "output_type": "execute_result"
    }
   ],
   "source": [
    "# Rearrange the position of 'activityday' column to be adjacent to 'id' column\n",
    "cols = list(df.columns)\n",
    "cols.insert(0, cols.pop(cols.index('activityday')))  # Move 'activityday' and 'acivitytime' next to 'id'\n",
    "cols.insert(1, cols.pop(cols.index('activitytime'))) \n",
    "df = df[cols]\n",
    "\n",
    "# Display the first few rows of the dataframe to verify the rearrangement\n",
    "df.head()"
   ]
  },
  {
   "cell_type": "code",
   "execution_count": 16,
   "id": "011bdad7",
   "metadata": {},
   "outputs": [
    {
     "name": "stdout",
     "output_type": "stream",
     "text": [
      "<class 'pandas.core.frame.DataFrame'>\n",
      "Int64Index: 2483658 entries, 2022484408 to 8877689391\n",
      "Data columns (total 3 columns):\n",
      " #   Column        Dtype         \n",
      "---  ------        -----         \n",
      " 0   activityday   datetime64[ns]\n",
      " 1   activitytime  object        \n",
      " 2   value         int64         \n",
      "dtypes: datetime64[ns](1), int64(1), object(1)\n",
      "memory usage: 75.8+ MB\n"
     ]
    }
   ],
   "source": [
    "# Convert 'activityday' and to datetime format\n",
    "df['activityday'] = pd.to_datetime(df['activityday'], format='%d-%m-%Y')\n",
    "df.info()"
   ]
  },
  {
   "cell_type": "code",
   "execution_count": 17,
   "id": "21cd9305",
   "metadata": {},
   "outputs": [
    {
     "data": {
      "text/plain": [
       "134066"
      ]
     },
     "execution_count": 17,
     "metadata": {},
     "output_type": "execute_result"
    }
   ],
   "source": [
    "# chek if is there any duplicate values in dataset\n",
    "duplicates = duplicates = df.duplicated().sum()\n",
    "duplicates"
   ]
  },
  {
   "cell_type": "code",
   "execution_count": 18,
   "id": "a644573b",
   "metadata": {},
   "outputs": [],
   "source": [
    "# Remove duplicate rows, keeping the first occurrence of each duplicate\n",
    "df = df.drop_duplicates()"
   ]
  },
  {
   "cell_type": "code",
   "execution_count": 24,
   "id": "5ca0758e",
   "metadata": {},
   "outputs": [
    {
     "data": {
      "text/html": [
       "<div>\n",
       "<style scoped>\n",
       "    .dataframe tbody tr th:only-of-type {\n",
       "        vertical-align: middle;\n",
       "    }\n",
       "\n",
       "    .dataframe tbody tr th {\n",
       "        vertical-align: top;\n",
       "    }\n",
       "\n",
       "    .dataframe thead th {\n",
       "        text-align: right;\n",
       "    }\n",
       "</style>\n",
       "<table border=\"1\" class=\"dataframe\">\n",
       "  <thead>\n",
       "    <tr style=\"text-align: right;\">\n",
       "      <th></th>\n",
       "      <th>Time</th>\n",
       "      <th>Value</th>\n",
       "    </tr>\n",
       "    <tr>\n",
       "      <th>Id</th>\n",
       "      <th></th>\n",
       "      <th></th>\n",
       "    </tr>\n",
       "  </thead>\n",
       "  <tbody>\n",
       "    <tr>\n",
       "      <th>2022484408</th>\n",
       "      <td>4/12/2016 7:21:00 AM</td>\n",
       "      <td>97</td>\n",
       "    </tr>\n",
       "    <tr>\n",
       "      <th>2022484408</th>\n",
       "      <td>4/12/2016 7:21:05 AM</td>\n",
       "      <td>102</td>\n",
       "    </tr>\n",
       "    <tr>\n",
       "      <th>2022484408</th>\n",
       "      <td>4/12/2016 7:21:10 AM</td>\n",
       "      <td>105</td>\n",
       "    </tr>\n",
       "    <tr>\n",
       "      <th>2022484408</th>\n",
       "      <td>4/12/2016 7:21:20 AM</td>\n",
       "      <td>103</td>\n",
       "    </tr>\n",
       "    <tr>\n",
       "      <th>2022484408</th>\n",
       "      <td>4/12/2016 7:21:25 AM</td>\n",
       "      <td>101</td>\n",
       "    </tr>\n",
       "  </tbody>\n",
       "</table>\n",
       "</div>"
      ],
      "text/plain": [
       "                            Time  Value\n",
       "Id                                     \n",
       "2022484408  4/12/2016 7:21:00 AM     97\n",
       "2022484408  4/12/2016 7:21:05 AM    102\n",
       "2022484408  4/12/2016 7:21:10 AM    105\n",
       "2022484408  4/12/2016 7:21:20 AM    103\n",
       "2022484408  4/12/2016 7:21:25 AM    101"
      ]
     },
     "execution_count": 24,
     "metadata": {},
     "output_type": "execute_result"
    }
   ],
   "source": [
    "heartrate_seconds_EDA = pd.read_csv(\"heartrate_seconds_merged.csv\", index_col=0)\n",
    "heartrate_seconds_EDA.head()"
   ]
  },
  {
   "cell_type": "code",
   "execution_count": null,
   "id": "d4b51813",
   "metadata": {},
   "outputs": [],
   "source": []
  }
 ],
 "metadata": {
  "kernelspec": {
   "display_name": "Python 3 (ipykernel)",
   "language": "python",
   "name": "python3"
  },
  "language_info": {
   "codemirror_mode": {
    "name": "ipython",
    "version": 3
   },
   "file_extension": ".py",
   "mimetype": "text/x-python",
   "name": "python",
   "nbconvert_exporter": "python",
   "pygments_lexer": "ipython3",
   "version": "3.9.13"
  }
 },
 "nbformat": 4,
 "nbformat_minor": 5
}
